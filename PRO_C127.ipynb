{
  "nbformat": 4,
  "nbformat_minor": 0,
  "metadata": {
    "colab": {
      "name": "Copy of Copy of PRO C127.ipynb",
      "provenance": [],
      "collapsed_sections": [],
      "include_colab_link": true
    },
    "kernelspec": {
      "name": "python3",
      "display_name": "Python 3"
    }
  },
  "cells": [
    {
      "cell_type": "markdown",
      "metadata": {
        "id": "view-in-github",
        "colab_type": "text"
      },
      "source": [
        "<a href=\"https://colab.research.google.com/github/Sindhuja-R-21/1-4--c13/blob/main/PRO_C127.ipynb\" target=\"_parent\"><img src=\"https://colab.research.google.com/assets/colab-badge.svg\" alt=\"Open In Colab\"/></a>"
      ]
    },
    {
      "cell_type": "code",
      "metadata": {
        "colab": {
          "base_uri": "https://localhost:8080/"
        },
        "id": "9Ovqd3drt5pt",
        "outputId": "6afadb04-3f3f-4a54-aade-6f648a975c0b"
      },
      "source": [
        "!pip install kora -q\n",
        "from kora.selenium import wd\n",
        "from bs4 import BeautifulSoup\n",
        "import csv\n",
        "import time\n",
        "\n",
        "Start_url= \"https://exoplanets.nasa.gov/discovery/exoplanet-catalog/\"\n",
        "wd.get(Start_url)\n",
        "time.sleep(10)"
      ],
      "execution_count": 1,
      "outputs": [
        {
          "output_type": "stream",
          "name": "stdout",
          "text": [
            "\u001b[?25l\r\u001b[K     |█████▊                          | 10 kB 22.9 MB/s eta 0:00:01\r\u001b[K     |███████████▍                    | 20 kB 11.3 MB/s eta 0:00:01\r\u001b[K     |█████████████████               | 30 kB 6.8 MB/s eta 0:00:01\r\u001b[K     |██████████████████████▊         | 40 kB 6.3 MB/s eta 0:00:01\r\u001b[K     |████████████████████████████▍   | 51 kB 5.2 MB/s eta 0:00:01\r\u001b[K     |████████████████████████████████| 57 kB 1.5 MB/s \n",
            "\u001b[?25h\u001b[?25l\r\u001b[K     |█████▊                          | 10 kB 25.5 MB/s eta 0:00:01\r\u001b[K     |███████████▌                    | 20 kB 27.2 MB/s eta 0:00:01\r\u001b[K     |█████████████████▎              | 30 kB 32.7 MB/s eta 0:00:01\r\u001b[K     |███████████████████████         | 40 kB 36.0 MB/s eta 0:00:01\r\u001b[K     |████████████████████████████▉   | 51 kB 39.8 MB/s eta 0:00:01\r\u001b[K     |████████████████████████████████| 56 kB 4.5 MB/s \n",
            "\u001b[?25h"
          ]
        }
      ]
    },
    {
      "cell_type": "code",
      "metadata": {
        "id": "9JNrW4fisy4C",
        "colab": {
          "base_uri": "https://localhost:8080/"
        },
        "outputId": "861d0f4f-ae40-48de-9d86-9f1ddeb2024e"
      },
      "source": [
        "def scrape():\n",
        "    headers = [\"name\", \"light_years_from_earth\", \"planet_mass\", \"stellar_magnitude\", \"discovery_date\"]\n",
        "    planet_data = []\n",
        "    for i in range(0, 10):\n",
        "        soup = BeautifulSoup(wd.page_source, \"html.parser\")\n",
        "        for ul_tag in soup.find_all(\"ul\", attrs={\"class\", \"exoplanet\"}):\n",
        "            li_tags = ul_tag.find_all(\"li\")\n",
        "            temp_list = []\n",
        "            for index, li_tag in enumerate(li_tags):\n",
        "                if index == 0:\n",
        "                    temp_list.append(li_tag.find_all(\"a\")[0].contents[0])\n",
        "                else:\n",
        "                    try:\n",
        "                        temp_list.append(li_tag.contents[0])\n",
        "                    except:\n",
        "                        temp_list.append(\"\")\n",
        "            planet_data.append(temp_list)\n",
        "        wd.find_element_by_xpath('//*[@id=\"primary_column\"]/footer/div/div/div/nav/span[2]/a').click()\n",
        "    with open(\"scrapper_2.csv\", \"w\") as f:\n",
        "        csvwriter = csv.writer(f)\n",
        "        csvwriter.writerow(headers)\n",
        "        csvwriter.writerows(planet_data)\n",
        "scrape()"
      ],
      "execution_count": 2,
      "outputs": [
        {
          "output_type": "stream",
          "name": "stderr",
          "text": [
            "/usr/local/lib/python3.7/dist-packages/ipykernel_launcher.py:18: DeprecationWarning: find_element_by_* commands are deprecated. Please use find_element() instead\n"
          ]
        }
      ]
    },
    {
      "cell_type": "code",
      "metadata": {
        "colab": {
          "base_uri": "https://localhost:8080/",
          "height": 423
        },
        "id": "BeEtfKCXu86g",
        "outputId": "f5259137-6a72-480c-b192-48ac74c38678"
      },
      "source": [
        "import pandas as pd\n",
        "\n",
        "df= pd.read_csv('scrapper_2.csv')\n",
        "df\n"
      ],
      "execution_count": 6,
      "outputs": [
        {
          "output_type": "execute_result",
          "data": {
            "text/html": [
              "\n",
              "  <div id=\"df-3509da0f-7627-48ef-a02e-19502bb3e488\">\n",
              "    <div class=\"colab-df-container\">\n",
              "      <div>\n",
              "<style scoped>\n",
              "    .dataframe tbody tr th:only-of-type {\n",
              "        vertical-align: middle;\n",
              "    }\n",
              "\n",
              "    .dataframe tbody tr th {\n",
              "        vertical-align: top;\n",
              "    }\n",
              "\n",
              "    .dataframe thead th {\n",
              "        text-align: right;\n",
              "    }\n",
              "</style>\n",
              "<table border=\"1\" class=\"dataframe\">\n",
              "  <thead>\n",
              "    <tr style=\"text-align: right;\">\n",
              "      <th></th>\n",
              "      <th>name</th>\n",
              "      <th>light_years_from_earth</th>\n",
              "      <th>planet_mass</th>\n",
              "      <th>stellar_magnitude</th>\n",
              "      <th>discovery_date</th>\n",
              "    </tr>\n",
              "  </thead>\n",
              "  <tbody>\n",
              "    <tr>\n",
              "      <th>0</th>\n",
              "      <td>11 Comae Berenices b</td>\n",
              "      <td>304.0</td>\n",
              "      <td>19.4 Jupiters</td>\n",
              "      <td>4.72307</td>\n",
              "      <td>2007</td>\n",
              "    </tr>\n",
              "    <tr>\n",
              "      <th>1</th>\n",
              "      <td>11 Ursae Minoris b</td>\n",
              "      <td>409.0</td>\n",
              "      <td>14.74 Jupiters</td>\n",
              "      <td>5.01300</td>\n",
              "      <td>2009</td>\n",
              "    </tr>\n",
              "    <tr>\n",
              "      <th>2</th>\n",
              "      <td>14 Andromedae b</td>\n",
              "      <td>246.0</td>\n",
              "      <td>4.8 Jupiters</td>\n",
              "      <td>5.23133</td>\n",
              "      <td>2008</td>\n",
              "    </tr>\n",
              "    <tr>\n",
              "      <th>3</th>\n",
              "      <td>14 Herculis b</td>\n",
              "      <td>58.0</td>\n",
              "      <td>4.66 Jupiters</td>\n",
              "      <td>6.61935</td>\n",
              "      <td>2002</td>\n",
              "    </tr>\n",
              "    <tr>\n",
              "      <th>4</th>\n",
              "      <td>16 Cygni B b</td>\n",
              "      <td>69.0</td>\n",
              "      <td>1.78 Jupiters</td>\n",
              "      <td>6.21500</td>\n",
              "      <td>1996</td>\n",
              "    </tr>\n",
              "    <tr>\n",
              "      <th>...</th>\n",
              "      <td>...</td>\n",
              "      <td>...</td>\n",
              "      <td>...</td>\n",
              "      <td>...</td>\n",
              "      <td>...</td>\n",
              "    </tr>\n",
              "    <tr>\n",
              "      <th>245</th>\n",
              "      <td>GJ 317 c</td>\n",
              "      <td>50.0</td>\n",
              "      <td>1.64396 Jupiters</td>\n",
              "      <td>12.40000</td>\n",
              "      <td>2018</td>\n",
              "    </tr>\n",
              "    <tr>\n",
              "      <th>246</th>\n",
              "      <td>GJ 328 b</td>\n",
              "      <td>67.0</td>\n",
              "      <td>2.3 Jupiters</td>\n",
              "      <td>9.99000</td>\n",
              "      <td>2013</td>\n",
              "    </tr>\n",
              "    <tr>\n",
              "      <th>247</th>\n",
              "      <td>GJ 3293 b</td>\n",
              "      <td>66.0</td>\n",
              "      <td>23.54 Earths</td>\n",
              "      <td>11.94500</td>\n",
              "      <td>2015</td>\n",
              "    </tr>\n",
              "    <tr>\n",
              "      <th>248</th>\n",
              "      <td>GJ 3293 c</td>\n",
              "      <td>66.0</td>\n",
              "      <td>21.09 Earths</td>\n",
              "      <td>11.94500</td>\n",
              "      <td>2015</td>\n",
              "    </tr>\n",
              "    <tr>\n",
              "      <th>249</th>\n",
              "      <td>GJ 3293 d</td>\n",
              "      <td>66.0</td>\n",
              "      <td>7.6 Earths</td>\n",
              "      <td>11.94500</td>\n",
              "      <td>2017</td>\n",
              "    </tr>\n",
              "  </tbody>\n",
              "</table>\n",
              "<p>250 rows × 5 columns</p>\n",
              "</div>\n",
              "      <button class=\"colab-df-convert\" onclick=\"convertToInteractive('df-3509da0f-7627-48ef-a02e-19502bb3e488')\"\n",
              "              title=\"Convert this dataframe to an interactive table.\"\n",
              "              style=\"display:none;\">\n",
              "        \n",
              "  <svg xmlns=\"http://www.w3.org/2000/svg\" height=\"24px\"viewBox=\"0 0 24 24\"\n",
              "       width=\"24px\">\n",
              "    <path d=\"M0 0h24v24H0V0z\" fill=\"none\"/>\n",
              "    <path d=\"M18.56 5.44l.94 2.06.94-2.06 2.06-.94-2.06-.94-.94-2.06-.94 2.06-2.06.94zm-11 1L8.5 8.5l.94-2.06 2.06-.94-2.06-.94L8.5 2.5l-.94 2.06-2.06.94zm10 10l.94 2.06.94-2.06 2.06-.94-2.06-.94-.94-2.06-.94 2.06-2.06.94z\"/><path d=\"M17.41 7.96l-1.37-1.37c-.4-.4-.92-.59-1.43-.59-.52 0-1.04.2-1.43.59L10.3 9.45l-7.72 7.72c-.78.78-.78 2.05 0 2.83L4 21.41c.39.39.9.59 1.41.59.51 0 1.02-.2 1.41-.59l7.78-7.78 2.81-2.81c.8-.78.8-2.07 0-2.86zM5.41 20L4 18.59l7.72-7.72 1.47 1.35L5.41 20z\"/>\n",
              "  </svg>\n",
              "      </button>\n",
              "      \n",
              "  <style>\n",
              "    .colab-df-container {\n",
              "      display:flex;\n",
              "      flex-wrap:wrap;\n",
              "      gap: 12px;\n",
              "    }\n",
              "\n",
              "    .colab-df-convert {\n",
              "      background-color: #E8F0FE;\n",
              "      border: none;\n",
              "      border-radius: 50%;\n",
              "      cursor: pointer;\n",
              "      display: none;\n",
              "      fill: #1967D2;\n",
              "      height: 32px;\n",
              "      padding: 0 0 0 0;\n",
              "      width: 32px;\n",
              "    }\n",
              "\n",
              "    .colab-df-convert:hover {\n",
              "      background-color: #E2EBFA;\n",
              "      box-shadow: 0px 1px 2px rgba(60, 64, 67, 0.3), 0px 1px 3px 1px rgba(60, 64, 67, 0.15);\n",
              "      fill: #174EA6;\n",
              "    }\n",
              "\n",
              "    [theme=dark] .colab-df-convert {\n",
              "      background-color: #3B4455;\n",
              "      fill: #D2E3FC;\n",
              "    }\n",
              "\n",
              "    [theme=dark] .colab-df-convert:hover {\n",
              "      background-color: #434B5C;\n",
              "      box-shadow: 0px 1px 3px 1px rgba(0, 0, 0, 0.15);\n",
              "      filter: drop-shadow(0px 1px 2px rgba(0, 0, 0, 0.3));\n",
              "      fill: #FFFFFF;\n",
              "    }\n",
              "  </style>\n",
              "\n",
              "      <script>\n",
              "        const buttonEl =\n",
              "          document.querySelector('#df-3509da0f-7627-48ef-a02e-19502bb3e488 button.colab-df-convert');\n",
              "        buttonEl.style.display =\n",
              "          google.colab.kernel.accessAllowed ? 'block' : 'none';\n",
              "\n",
              "        async function convertToInteractive(key) {\n",
              "          const element = document.querySelector('#df-3509da0f-7627-48ef-a02e-19502bb3e488');\n",
              "          const dataTable =\n",
              "            await google.colab.kernel.invokeFunction('convertToInteractive',\n",
              "                                                     [key], {});\n",
              "          if (!dataTable) return;\n",
              "\n",
              "          const docLinkHtml = 'Like what you see? Visit the ' +\n",
              "            '<a target=\"_blank\" href=https://colab.research.google.com/notebooks/data_table.ipynb>data table notebook</a>'\n",
              "            + ' to learn more about interactive tables.';\n",
              "          element.innerHTML = '';\n",
              "          dataTable['output_type'] = 'display_data';\n",
              "          await google.colab.output.renderOutput(dataTable, element);\n",
              "          const docLink = document.createElement('div');\n",
              "          docLink.innerHTML = docLinkHtml;\n",
              "          element.appendChild(docLink);\n",
              "        }\n",
              "      </script>\n",
              "    </div>\n",
              "  </div>\n",
              "  "
            ],
            "text/plain": [
              "                     name  ...  discovery_date\n",
              "0    11 Comae Berenices b  ...            2007\n",
              "1      11 Ursae Minoris b  ...            2009\n",
              "2         14 Andromedae b  ...            2008\n",
              "3           14 Herculis b  ...            2002\n",
              "4            16 Cygni B b  ...            1996\n",
              "..                    ...  ...             ...\n",
              "245              GJ 317 c  ...            2018\n",
              "246              GJ 328 b  ...            2013\n",
              "247             GJ 3293 b  ...            2015\n",
              "248             GJ 3293 c  ...            2015\n",
              "249             GJ 3293 d  ...            2017\n",
              "\n",
              "[250 rows x 5 columns]"
            ]
          },
          "metadata": {},
          "execution_count": 6
        }
      ]
    },
    {
      "cell_type": "code",
      "metadata": {
        "id": "NPze76v1Iiko",
        "colab": {
          "base_uri": "https://localhost:8080/"
        },
        "outputId": "822cc40c-8c6e-4c96-b262-87215a824681"
      },
      "source": [
        "df.shape"
      ],
      "execution_count": 4,
      "outputs": [
        {
          "output_type": "execute_result",
          "data": {
            "text/plain": [
              "(250, 5)"
            ]
          },
          "metadata": {},
          "execution_count": 4
        }
      ]
    },
    {
      "cell_type": "code",
      "metadata": {
        "id": "JKg5Sh4Usc3y"
      },
      "source": [
        ""
      ],
      "execution_count": null,
      "outputs": []
    }
  ]
}